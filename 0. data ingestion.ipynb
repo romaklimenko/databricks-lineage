{
 "cells": [
  {
   "cell_type": "code",
   "execution_count": 0,
   "metadata": {
    "application/vnd.databricks.v1+cell": {
     "cellMetadata": {
      "byteLimit": 2048000,
      "rowLimit": 10000
     },
     "inputWidgets": {},
     "nuid": "5b543931-6085-45b0-84b8-912ea8654ebc",
     "showTitle": false,
     "tableResultSettingsMap": {},
     "title": ""
    }
   },
   "outputs": [],
   "source": [
    "import pandas as pd\n",
    "\n",
    "def create_table(json_file, table_name):\n",
    "  df = pd.read_json(json_file)\n",
    "  df_spark = spark.createDataFrame(df)\n",
    "  df_spark.write.saveAsTable(table_name, mode='overwrite')\n",
    "  print(f\"Created table {table_name} with {df_spark.count()} records\")\n",
    "\n",
    "create_table(\n",
    "    \"/Volumes/rk_workspace/bronze/disk/D365Contacts.json\",\n",
    "    \"bronze.d365_contacts\")\n",
    "\n",
    "create_table(\n",
    "    \"/Volumes/rk_workspace/bronze/disk/human_resources_employees.json\",\n",
    "    \"bronze.human_resources_employees\")\n",
    "\n",
    "create_table(\n",
    "    \"/Volumes/rk_workspace/bronze/disk/salesforceContacts.json\",\n",
    "    \"bronze.salesforce_contacts\")\n"
   ]
  }
 ],
 "metadata": {
  "application/vnd.databricks.v1+notebook": {
   "computePreferences": null,
   "dashboards": [],
   "environmentMetadata": {
    "base_environment": "",
    "environment_version": "2"
   },
   "inputWidgetPreferences": null,
   "language": "python",
   "notebookMetadata": {
    "pythonIndentUnit": 4
   },
   "notebookName": "0. data ingestion",
   "widgets": {}
  },
  "language_info": {
   "name": "python"
  }
 },
 "nbformat": 4,
 "nbformat_minor": 0
}
